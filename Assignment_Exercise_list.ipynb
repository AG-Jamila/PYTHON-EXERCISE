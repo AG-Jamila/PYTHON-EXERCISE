{
 "cells": [
  {
   "cell_type": "code",
   "execution_count": 7,
   "id": "b2f16a12-80ef-4433-8edd-fa0d713ff24b",
   "metadata": {},
   "outputs": [
    {
     "name": "stdout",
     "output_type": "stream",
     "text": [
      "[]\n",
      "[]\n"
     ]
    }
   ],
   "source": [
    "# 1. Declare an empty list\n",
    "empty_lst1 = list()\n",
    "empty_lst2 =[]\n",
    "print(empty_lst1)\n",
    "print(empty_lst2)"
   ]
  },
  {
   "cell_type": "code",
   "execution_count": 15,
   "id": "d2f9e35a-93fb-4625-b745-ffc3b1cc94cb",
   "metadata": {},
   "outputs": [
    {
     "name": "stdout",
     "output_type": "stream",
     "text": [
      "['Isiyaku', 'Sadiq', 'Jamila', 'muslim', 'Khalil', 'Jamil', 'Aisha']\n",
      "7\n",
      "Isiyaku\n",
      "muslim\n",
      "Aisha\n"
     ]
    }
   ],
   "source": [
    "# 2. Declare a list with more than 5 items\n",
    "first_lst = ['Isiyaku', 'Sadiq', 'Jamila', 'muslim', 'Khalil', 'Jamil', 'Aisha']\n",
    "print(first_lst)\n",
    "# 3. Find the length of your list\n",
    "print(len(first_lst))\n",
    "# 4. Get the first item,the middle item and the last item of the list\n",
    "first_item = first_lst[0]\n",
    "middle_item = first_lst[3]\n",
    "last_item = first_lst[6]\n",
    "\n",
    "print(first_item)\n",
    "print(middle_item)\n",
    "print(last_item)\n",
    "\n"
   ]
  },
  {
   "cell_type": "code",
   "execution_count": 17,
   "id": "699dbdd4-f10f-4cc3-9a82-5cec5b7b82a9",
   "metadata": {},
   "outputs": [
    {
     "name": "stdout",
     "output_type": "stream",
     "text": [
      "['Jamila', 31, 1.54, 'Married', 'tunfure']\n",
      "['facebook', 'Google', 'Microsoft', 'Apple', 'IBM', 'Oracle', 'Amazon']\n"
     ]
    }
   ],
   "source": [
    "# 5. Declare a list called mixed_data_types\n",
    "mixed_data_types =['Jamila', 31, 1.54, 'Married', 'tunfure'] \n",
    "\n",
    "# 6. Declare a list variable named it\n",
    "companies =['facebook', 'Google', 'Microsoft', 'Apple', 'IBM', 'Oracle', 'Amazon']\n",
    "\n",
    "# 7. print the list using _print()\n",
    "print(mixed_data_types)\n",
    "print(companies)\n"
   ]
  },
  {
   "cell_type": "code",
   "execution_count": 23,
   "id": "fe78af35-baf1-453a-b351-f744a1d7d4d7",
   "metadata": {},
   "outputs": [
    {
     "name": "stdout",
     "output_type": "stream",
     "text": [
      "5\n",
      "7\n",
      "facebook\n",
      "Apple\n",
      "Amazon\n"
     ]
    }
   ],
   "source": [
    "# 8. print the number of companies in the list\n",
    "print(len(mixed_data_types))\n",
    "print(len(companies))\n",
    "\n",
    "# 9. print the first,middle and last companies\n",
    "first_company = companies[0]\n",
    "middle_company = companies[3]\n",
    "last_company = companies[6]\n",
    "\n",
    "print(first_company)\n",
    "print(middle_company)\n",
    "print(last_company)"
   ]
  },
  {
   "cell_type": "code",
   "execution_count": 33,
   "id": "62faa889-f516-446d-903e-027f880bf649",
   "metadata": {},
   "outputs": [
    {
     "name": "stdout",
     "output_type": "stream",
     "text": [
      "['WhatsApp', 'Google', 'Microsoft', 'Apple', 'IBM', 'Orcle', 'Amazon']\n",
      "['Facebook', 'Google', 'Microsoft', 'Apple', 'IBM', 'Oracle', 'Amazon', 'snapchat']\n",
      "['Facebook', 'Google', 'Microsoft', 'Twitter', 'Apple', 'IBM', 'Oracle', 'Amazon', 'snapchat']\n"
     ]
    }
   ],
   "source": [
    "# 10. print the list after modifying one of the companies\n",
    "companies = ['Facebook', 'Google', 'Microsoft', 'Apple', 'IBM', 'Orcle', 'Amazon']\n",
    "companies[0] = 'WhatsApp'\n",
    "print(companies)\n",
    "\n",
    "# 11. Add an IT company to it_companies\n",
    "companies = ['Facebook', 'Google', 'Microsoft', 'Apple', 'IBM', 'Oracle', 'Amazon']\n",
    "companies.append('snapchat')\n",
    "print(companies)\n",
    "\n",
    "companies.insert(3,'Twitter')\n",
    "print(companies)"
   ]
  },
  {
   "cell_type": "code",
   "execution_count": 31,
   "id": "17b70c11-2945-4d53-9424-60ae5f5235ea",
   "metadata": {},
   "outputs": [
    {
     "name": "stdout",
     "output_type": "stream",
     "text": [
      "['Facebook', 'Google', 'Microsoft', 'Instagram', 'Apple', 'IBM', 'Oracle', 'Amazon']\n"
     ]
    }
   ],
   "source": [
    "# 12. Insert an IT company in the middle of the companies list\n",
    "companies = ['Facebook', 'Google', 'Microsoft', 'Apple', 'IBM', 'Oracle', 'Amazon',]\n",
    "companies.insert(3, 'Instagram')\n",
    "print(companies)"
   ]
  },
  {
   "cell_type": "code",
   "execution_count": 37,
   "id": "6cf66c77-71e9-4e35-b129-d44d57f1441a",
   "metadata": {},
   "outputs": [
    {
     "name": "stdout",
     "output_type": "stream",
     "text": [
      "['Facebook', 'GOOGLE', 'Microsoft', 'Apple', 'IBM', 'Oracle', 'Amazon']\n"
     ]
    }
   ],
   "source": [
    "# 13. Change one of the it_companies names\n",
    "companies = ['Facebook', 'Google', 'Microsoft', 'Apple', 'IBM', 'Oracle', 'Amazon',]\n",
    "companies[1] = 'GOOGLE'\n",
    "print(companies)\n"
   ]
  },
  {
   "cell_type": "code",
   "execution_count": 40,
   "id": "a67adda1-60f0-4784-a7df-c4858a27e486",
   "metadata": {},
   "outputs": [
    {
     "name": "stdout",
     "output_type": "stream",
     "text": [
      "['Facebook', 'Google', 'Microsoft', 'Apple', 'IBM', 'Oracle', 'Amazon', '#', ';', '&', 'n', 'b', 's', 'p', ';', ' ', ' ']\n"
     ]
    }
   ],
   "source": [
    "# 14. Join the it_companies with a string '#'\n",
    "companies = ['Facebook', 'Google', 'Microsoft', 'Apple', 'IBM', 'Oracle', 'Amazon',]\n",
    "companies.extend('#;&nbsp;  ')\n",
    "print(companies)"
   ]
  },
  {
   "cell_type": "code",
   "execution_count": 44,
   "id": "2ed0b8b2-f88f-4834-bf18-aee93c5c3e90",
   "metadata": {},
   "outputs": [
    {
     "name": "stdout",
     "output_type": "stream",
     "text": [
      "Checking if Toyota is in the list of companies:False\n"
     ]
    }
   ],
   "source": [
    "# 15. Check if a certain company exists in the it_companies list\n",
    "companies = ['Facebook', 'Google', 'Microsoft', 'Apple', 'IBM', 'Oracle', 'Amazon',]\n",
    "print('Checking if Toyota is in the list of companies:False')"
   ]
  },
  {
   "cell_type": "code",
   "execution_count": 46,
   "id": "e0b106ea-231f-4916-b3fb-63cbd477a359",
   "metadata": {},
   "outputs": [
    {
     "name": "stdout",
     "output_type": "stream",
     "text": [
      "['Amazon', 'Apple', 'Facebook', 'Google', 'IBM', 'Microsoft', 'Oracle']\n"
     ]
    }
   ],
   "source": [
    "# 16. Sort the list using sort() method\n",
    "companies = ['Facebook', 'Google', 'Microsoft', 'Apple', 'IBM', 'Oracle', 'Amazon',]\n",
    "companies.sort() #Ascending\n",
    "print(companies)"
   ]
  },
  {
   "cell_type": "code",
   "execution_count": 48,
   "id": "82a02984-37b9-4909-a7c0-addfcc015a11",
   "metadata": {},
   "outputs": [
    {
     "name": "stdout",
     "output_type": "stream",
     "text": [
      "['Oracle', 'Microsoft', 'IBM', 'Google', 'Facebook', 'Apple', 'Amazon']\n"
     ]
    }
   ],
   "source": [
    "# 17. Reverse the list in decending order using reverse() mehod\n",
    "companies.sort(reverse = True) # Descending\n",
    "print(companies)"
   ]
  },
  {
   "cell_type": "code",
   "execution_count": 50,
   "id": "ccbae8ca-0ac2-427b-8928-21a73f374133",
   "metadata": {},
   "outputs": [
    {
     "name": "stdout",
     "output_type": "stream",
     "text": [
      "['Facebook', 'Google', 'Microsoft']\n"
     ]
    }
   ],
   "source": [
    "# 18. Slice out the last 3 companies from list\n",
    "it_companies = ['Facebook', 'Google', 'Microsoft', 'Apple', 'IBM', 'Oracle', 'Amazon',]\n",
    "first_three_sliced = it_companies[0:3]\n",
    "print(first_three_sliced)"
   ]
  },
  {
   "cell_type": "code",
   "execution_count": 52,
   "id": "390d4f19-263b-4c5c-9f39-3ef836add232",
   "metadata": {},
   "outputs": [
    {
     "name": "stdout",
     "output_type": "stream",
     "text": [
      "['IBM', 'Oracle', 'Amazon']\n"
     ]
    }
   ],
   "source": [
    "# 19. Slice out the last 3 companies from the list\n",
    "it_companies = ['Facebook', 'Google', 'Microsoft', 'Apple', 'IBM', 'Oracle', 'Amazon',]\n",
    "last_three_sliced = it_companies[4:]\n",
    "print(last_three_sliced)"
   ]
  },
  {
   "cell_type": "code",
   "execution_count": 58,
   "id": "91de061e-ee5c-48c3-9b33-f0163a8b67cd",
   "metadata": {},
   "outputs": [
    {
     "name": "stdout",
     "output_type": "stream",
     "text": [
      "['Apple']\n"
     ]
    }
   ],
   "source": [
    "# 20. Slice out the middle IT company or companies from the list\n",
    "it_companies = ['Facebook', 'Google', 'Microsoft', 'Apple', 'IBM', 'Oracle', 'Amazon',]\n",
    "middle_sliced = it_companies[3:4]\n",
    "print(middle_sliced)"
   ]
  },
  {
   "cell_type": "code",
   "execution_count": 1,
   "id": "e24a7351-6daa-473a-a61d-e00783c119f8",
   "metadata": {},
   "outputs": [
    {
     "name": "stdout",
     "output_type": "stream",
     "text": [
      "['Google', 'Microsoft', 'Apple', 'IBM', 'Oracle', 'Amazon']\n"
     ]
    }
   ],
   "source": [
    "# 21. Remove the first IT company from the list\n",
    "it_companies = ['Facebook', 'Google', 'Microsoft', 'Apple', 'IBM', 'Oracle', 'Amazon',]\n",
    "it_companies.remove('Facebook')\n",
    "print(it_companies)\n"
   ]
  },
  {
   "cell_type": "code",
   "execution_count": 5,
   "id": "1238609e-d888-49a4-b44c-e0aa61de3ed4",
   "metadata": {},
   "outputs": [
    {
     "name": "stdout",
     "output_type": "stream",
     "text": [
      "The middle item is: Apple\n",
      "['Facebook', 'Google', 'Microsoft', 'IBM', 'Oracle', 'Amazon']\n"
     ]
    }
   ],
   "source": [
    "# 22. Remove the middle IT company or companies from the list\n",
    "it_companies = ['Facebook', 'Google', 'Microsoft', 'Apple', 'IBM', 'Oracle', 'Amazon',]\n",
    "middle_index = len(it_companies) // 2\n",
    "removed_item = it_companies.pop(middle_index)\n",
    "\n",
    "print('The middle item is:',removed_item)\n",
    "print(it_companies)"
   ]
  },
  {
   "cell_type": "code",
   "execution_count": 7,
   "id": "bef290a0-2c28-4853-80c8-e67b0ef17d0a",
   "metadata": {},
   "outputs": [
    {
     "name": "stdout",
     "output_type": "stream",
     "text": [
      "['Facebook', 'Google', 'Microsoft', 'Apple', 'IBM', 'Oracle']\n"
     ]
    }
   ],
   "source": [
    "# 23. Remove the last IT company from the list\n",
    "it_companies = ['Facebook', 'Google', 'Microsoft', 'Apple', 'IBM', 'Oracle', 'Amazon',]\n",
    "it_companies.remove( 'Amazon' )\n",
    "print(it_companies)"
   ]
  },
  {
   "cell_type": "code",
   "execution_count": 9,
   "id": "173361b1-f2e0-47a5-aeca-44436bdec856",
   "metadata": {},
   "outputs": [
    {
     "name": "stdout",
     "output_type": "stream",
     "text": [
      "[]\n"
     ]
    }
   ],
   "source": [
    "# 24. Remove all IT companies from the list\n",
    "it_companies = ['Facebook', 'Google', 'Microsoft', 'Apple', 'IBM', 'Oracle', 'Amazon',]\n",
    "it_companies.clear()\n",
    "print(it_companies)"
   ]
  },
  {
   "cell_type": "code",
   "execution_count": 15,
   "id": "c7ed59ff-280c-40c5-af14-bd70b4c1a7ea",
   "metadata": {},
   "outputs": [
    {
     "ename": "NameError",
     "evalue": "name 'it_companies' is not defined",
     "output_type": "error",
     "traceback": [
      "\u001b[1;31m---------------------------------------------------------------------------\u001b[0m",
      "\u001b[1;31mNameError\u001b[0m                                 Traceback (most recent call last)",
      "Cell \u001b[1;32mIn[15], line 4\u001b[0m\n\u001b[0;32m      2\u001b[0m it_companies \u001b[38;5;241m=\u001b[39m [\u001b[38;5;124m'\u001b[39m\u001b[38;5;124mFacebook\u001b[39m\u001b[38;5;124m'\u001b[39m, \u001b[38;5;124m'\u001b[39m\u001b[38;5;124mGoogle\u001b[39m\u001b[38;5;124m'\u001b[39m, \u001b[38;5;124m'\u001b[39m\u001b[38;5;124mMicrosoft\u001b[39m\u001b[38;5;124m'\u001b[39m, \u001b[38;5;124m'\u001b[39m\u001b[38;5;124mApple\u001b[39m\u001b[38;5;124m'\u001b[39m, \u001b[38;5;124m'\u001b[39m\u001b[38;5;124mIBM\u001b[39m\u001b[38;5;124m'\u001b[39m, \u001b[38;5;124m'\u001b[39m\u001b[38;5;124mOracle\u001b[39m\u001b[38;5;124m'\u001b[39m, \u001b[38;5;124m'\u001b[39m\u001b[38;5;124mAmazon\u001b[39m\u001b[38;5;124m'\u001b[39m,]\n\u001b[0;32m      3\u001b[0m \u001b[38;5;28;01mdel\u001b[39;00m it_companies\n\u001b[1;32m----> 4\u001b[0m \u001b[38;5;28mprint\u001b[39m(it_companies)\n",
      "\u001b[1;31mNameError\u001b[0m: name 'it_companies' is not defined"
     ]
    }
   ],
   "source": [
    "# 25. Destroy the IT companies list\n",
    "it_companies = ['Facebook', 'Google', 'Microsoft', 'Apple', 'IBM', 'Oracle', 'Amazon',]\n",
    "del it_companies\n",
    "print(it_companies)\n"
   ]
  },
  {
   "cell_type": "code",
   "execution_count": 17,
   "id": "a6698c41-ca4d-4563-aeb1-7684d7687f85",
   "metadata": {},
   "outputs": [
    {
     "name": "stdout",
     "output_type": "stream",
     "text": [
      "['HTML', 'CSS', 'JS', 'React', 'Redux', 'Node', 'Express', 'MongoDB']\n"
     ]
    }
   ],
   "source": [
    "# 26. Join the following list:\n",
    "front_end = ['HTML', 'CSS', 'JS', 'React','Redux',]\n",
    "back_end = ['Node', 'Express', 'MongoDB',]\n",
    "\n",
    "together = front_end + back_end\n",
    "print(together)"
   ]
  },
  {
   "cell_type": "code",
   "execution_count": 21,
   "id": "f9274c23-7706-460e-9102-7c45fa324212",
   "metadata": {},
   "outputs": [
    {
     "name": "stdout",
     "output_type": "stream",
     "text": [
      "['HTML', 'CSS', 'JS', 'React', 'Redux', 'Python', 'SQL', 'Node', 'Express', 'MongoDB']\n",
      "['HTML', 'CSS', 'JS', 'React', 'Redux', 'Python', 'Python', 'SQL', 'Node', 'Express', 'MongoDB']\n",
      "['HTML', 'CSS', 'JS', 'React', 'Redux', 'Python', 'SQL', 'Python', 'SQL', 'Node', 'Express', 'MongoDB']\n"
     ]
    }
   ],
   "source": [
    "# 27. After joining the lists in question\n",
    "full_stack = together\n",
    "print(full_stack)\n",
    "\n",
    "full_stack.insert(5, 'Python')\n",
    "print(full_stack)\n",
    "\n",
    "full_stack.insert(6, 'SQL')\n",
    "print(full_stack)"
   ]
  },
  {
   "cell_type": "code",
   "execution_count": 23,
   "id": "8d21d7c6-8e3c-4777-8c8f-895f77e3e386",
   "metadata": {},
   "outputs": [],
   "source": [
    "# LEVEL 2\n",
    "# LEVEL 2\n"
   ]
  },
  {
   "cell_type": "code",
   "execution_count": 35,
   "id": "f8a37cad-c617-479f-af9e-845d700f8524",
   "metadata": {},
   "outputs": [
    {
     "name": "stdout",
     "output_type": "stream",
     "text": [
      "[19, 19, 20, 22, 24, 24, 24, 25, 25, 26]\n",
      "The minimum value in the list is: 19 \n",
      "The maximum value in the list is: 26 \n"
     ]
    }
   ],
   "source": [
    "# 1. The following is a list of students ages:\n",
    "ages = [19, 22, 19, 24, 20, 25, 26, 24, 25, 24]\n",
    "\n",
    "# - sort the list and find the min and max age\n",
    "ages.sort()\n",
    "print(ages)\n",
    "\n",
    "minimum_value = min(ages)\n",
    "print('The minimum value in the list is: 19 ')\n",
    "\n",
    "maximum_value = max(ages)\n",
    "print('The maximum value in the list is: 26 ')"
   ]
  },
  {
   "cell_type": "code",
   "execution_count": 37,
   "id": "fd5d617a-2962-492b-9804-31f696f2401e",
   "metadata": {},
   "outputs": [
    {
     "name": "stdout",
     "output_type": "stream",
     "text": [
      "[19, 19, 20, 22, 24, 24, 24, 25, 25, 26]\n",
      "[19, 19, 19, 20, 22, 24, 24, 24, 25, 25, 26, 26]\n"
     ]
    }
   ],
   "source": [
    "# - Add the min age and the max age again to the list\n",
    "print(ages)\n",
    "ages.append(19)\n",
    "ages.append(26)\n",
    "ages.sort()\n",
    "print(ages)"
   ]
  },
  {
   "cell_type": "code",
   "execution_count": 41,
   "id": "e3114ea6-918b-4d74-8467-f8903913f8f2",
   "metadata": {},
   "outputs": [
    {
     "name": "stdout",
     "output_type": "stream",
     "text": [
      "The median age is: 24\n"
     ]
    }
   ],
   "source": [
    "# - Find the median age (one middle item)\n",
    "median = len(ages) // 2\n",
    "median_age = ages.pop(median)\n",
    "print('The median age is:', median_age)"
   ]
  },
  {
   "cell_type": "code",
   "execution_count": 45,
   "id": "74f24540-f847-44ea-8108-a72e8043e133",
   "metadata": {},
   "outputs": [
    {
     "name": "stdout",
     "output_type": "stream",
     "text": [
      "[19, 19, 19, 20, 22, 24, 25, 25, 26, 26]\n",
      "The average of the list of ages above is: 22.5\n"
     ]
    }
   ],
   "source": [
    "# - Find the average age (sum of all item divided by their number)\n",
    "print(ages)\n",
    "average = sum(ages) / len(ages)\n",
    "print('The average of the list of ages above is:', 22.5 )"
   ]
  },
  {
   "cell_type": "code",
   "execution_count": 47,
   "id": "9a5fe459-127d-48e0-a90f-b72c417ed38a",
   "metadata": {},
   "outputs": [
    {
     "name": "stdout",
     "output_type": "stream",
     "text": [
      "[19, 19, 19, 20, 22, 24, 25, 25, 26, 26]\n",
      "The range of the list of ages above is: 7\n"
     ]
    }
   ],
   "source": [
    "# - Find range of the ages (max minus min)\n",
    "print(ages)\n",
    "ages_range = max(ages) - min(ages)\n",
    "\n",
    "print('The range of the list of ages above is:', 7)"
   ]
  },
  {
   "cell_type": "code",
   "execution_count": 1,
   "id": "8853ffe8-c85e-44b2-b3b6-c6b492b60686",
   "metadata": {},
   "outputs": [
    {
     "data": {
      "text/plain": [
       "'C:\\\\Users\\\\TASHIBA PC\\\\ML CLASS'"
      ]
     },
     "execution_count": 1,
     "metadata": {},
     "output_type": "execute_result"
    }
   ],
   "source": [
    "pwd"
   ]
  },
  {
   "cell_type": "code",
   "execution_count": null,
   "id": "17af58eb-642f-45f4-9df7-6b93ce712100",
   "metadata": {},
   "outputs": [],
   "source": []
  }
 ],
 "metadata": {
  "kernelspec": {
   "display_name": "Python 3 (ipykernel)",
   "language": "python",
   "name": "python3"
  },
  "language_info": {
   "codemirror_mode": {
    "name": "ipython",
    "version": 3
   },
   "file_extension": ".py",
   "mimetype": "text/x-python",
   "name": "python",
   "nbconvert_exporter": "python",
   "pygments_lexer": "ipython3",
   "version": "3.12.4"
  }
 },
 "nbformat": 4,
 "nbformat_minor": 5
}
