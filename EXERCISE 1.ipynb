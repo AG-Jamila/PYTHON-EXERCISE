{
 "cells": [
  {
   "cell_type": "code",
   "execution_count": 2,
   "id": "9687db76-ce50-402d-b046-5f66c3160861",
   "metadata": {},
   "outputs": [],
   "source": [
    "#Python Programming"
   ]
  },
  {
   "cell_type": "code",
   "execution_count": 4,
   "id": "96e87d16-4ba8-4870-9069-53989ee90f8c",
   "metadata": {},
   "outputs": [
    {
     "name": "stdout",
     "output_type": "stream",
     "text": [
      "Jamila\n"
     ]
    }
   ],
   "source": [
    "First_name = \"Jamila\"\n",
    "print(First_name)"
   ]
  },
  {
   "cell_type": "code",
   "execution_count": 5,
   "id": "2d78daef-f8e9-4a7c-a887-50b75fff07d9",
   "metadata": {},
   "outputs": [
    {
     "name": "stdout",
     "output_type": "stream",
     "text": [
      "Gwamna\n"
     ]
    }
   ],
   "source": [
    "Last_name =\"Gwamna\"\n",
    "print(Last_name)"
   ]
  },
  {
   "cell_type": "code",
   "execution_count": 6,
   "id": "cda65233-429d-4cff-995b-3fd4a3c5a656",
   "metadata": {},
   "outputs": [
    {
     "name": "stdout",
     "output_type": "stream",
     "text": [
      "Jamila Abdulkadir Gwamna\n"
     ]
    }
   ],
   "source": [
    "Full_name =\"Jamila Abdulkadir Gwamna\"\n",
    "print(Full_name)"
   ]
  },
  {
   "cell_type": "code",
   "execution_count": 7,
   "id": "dce14a32-729b-4903-804b-8e98b539849d",
   "metadata": {},
   "outputs": [
    {
     "name": "stdout",
     "output_type": "stream",
     "text": [
      "Nigeria\n"
     ]
    }
   ],
   "source": [
    "Country =\"Nigeria\"\n",
    "print(Country)"
   ]
  },
  {
   "cell_type": "code",
   "execution_count": 8,
   "id": "3260eb97-cf03-4dc6-b936-5e3e8d254b4a",
   "metadata": {},
   "outputs": [
    {
     "name": "stdout",
     "output_type": "stream",
     "text": [
      "Gombe\n"
     ]
    }
   ],
   "source": [
    "City =\"Gombe\"\n",
    "print(City)"
   ]
  },
  {
   "cell_type": "code",
   "execution_count": 9,
   "id": "c54d6042-8a23-45a7-b237-d21dc87f3880",
   "metadata": {},
   "outputs": [
    {
     "name": "stdout",
     "output_type": "stream",
     "text": [
      "31\n"
     ]
    }
   ],
   "source": [
    "Age =\"31\"\n",
    "print(Age)"
   ]
  },
  {
   "cell_type": "code",
   "execution_count": 10,
   "id": "cff9208c-3958-46c8-b821-c6b2793790a6",
   "metadata": {},
   "outputs": [
    {
     "name": "stdout",
     "output_type": "stream",
     "text": [
      "September\n"
     ]
    }
   ],
   "source": [
    "Year =\"September\"\n",
    "print(Year)"
   ]
  },
  {
   "cell_type": "code",
   "execution_count": 11,
   "id": "8231beff-5fba-4909-8fb5-c22e19178955",
   "metadata": {},
   "outputs": [
    {
     "name": "stdout",
     "output_type": "stream",
     "text": [
      "True\n"
     ]
    }
   ],
   "source": [
    "Is_married =\"True\"\n",
    "print(Is_married)"
   ]
  },
  {
   "cell_type": "code",
   "execution_count": 12,
   "id": "1a797b65-614c-4408-a199-43cd757015d5",
   "metadata": {},
   "outputs": [
    {
     "name": "stdout",
     "output_type": "stream",
     "text": [
      "True\n"
     ]
    }
   ],
   "source": [
    "Is_true =\"True\"\n",
    "print(Is_true)"
   ]
  },
  {
   "cell_type": "code",
   "execution_count": 13,
   "id": "ce8cc16a-9600-4f53-8e88-13453749a552",
   "metadata": {},
   "outputs": [
    {
     "name": "stdout",
     "output_type": "stream",
     "text": [
      "True\n"
     ]
    }
   ],
   "source": [
    "Is_light_on =\"True\"\n",
    "print(Is_light_on)"
   ]
  },
  {
   "cell_type": "code",
   "execution_count": 24,
   "id": "49c4d6ca-5538-45eb-8687-acb22f831bf1",
   "metadata": {},
   "outputs": [
    {
     "name": "stdout",
     "output_type": "stream",
     "text": [
      "Jamila Gwamna Nigeria 31 True\n"
     ]
    }
   ],
   "source": [
    "First_name, last_name, country, age, is_married =\"Jamila\",\"Gwamna\",\"Nigeria\",\"31\",\"True\"\n",
    "print(First_name,last_name,country,age,is_married)"
   ]
  },
  {
   "cell_type": "code",
   "execution_count": 1,
   "id": "8bded088-2451-4799-a8ab-ff3c7d12ccaf",
   "metadata": {},
   "outputs": [
    {
     "data": {
      "text/plain": [
       "'C:\\\\Users\\\\TASHIBA PC\\\\ML CLASS\\\\INTRODUCTION'"
      ]
     },
     "execution_count": 1,
     "metadata": {},
     "output_type": "execute_result"
    }
   ],
   "source": [
    "pwd\n"
   ]
  },
  {
   "cell_type": "code",
   "execution_count": null,
   "id": "b30e7c93-7f00-47b8-a084-674a291c0a63",
   "metadata": {},
   "outputs": [],
   "source": []
  }
 ],
 "metadata": {
  "kernelspec": {
   "display_name": "Python 3 (ipykernel)",
   "language": "python",
   "name": "python3"
  },
  "language_info": {
   "codemirror_mode": {
    "name": "ipython",
    "version": 3
   },
   "file_extension": ".py",
   "mimetype": "text/x-python",
   "name": "python",
   "nbconvert_exporter": "python",
   "pygments_lexer": "ipython3",
   "version": "3.12.4"
  }
 },
 "nbformat": 4,
 "nbformat_minor": 5
}
